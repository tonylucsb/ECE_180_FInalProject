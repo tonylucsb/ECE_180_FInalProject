{
 "cells": [
  {
   "cell_type": "code",
   "execution_count": 1,
   "id": "8c6c3bfc",
   "metadata": {},
   "outputs": [],
   "source": [
    "import torch\n",
    "import torch.nn as nn\n",
    "from torch.utils.data import Dataset, DataLoader, TensorDataset\n",
    "import pandas as pd\n",
    "from sklearn.metrics import mean_squared_error\n",
    "import numpy as np\n",
    "from sentence_transformers import SentenceTransformer"
   ]
  },
  {
   "cell_type": "code",
   "execution_count": 2,
   "id": "ee0db91d",
   "metadata": {},
   "outputs": [],
   "source": [
    "\n",
    "train_df = pd.read_csv(\"train.csv\")\n",
    "val_df = pd.read_csv(\"val.csv\")\n",
    "test_df = pd.read_csv(\"test.csv\")"
   ]
  },
  {
   "cell_type": "code",
   "execution_count": 7,
   "id": "cf137a73",
   "metadata": {},
   "outputs": [
    {
     "data": {
      "text/plain": [
       "torch.Size([8000, 1, 384])"
      ]
     },
     "execution_count": 7,
     "metadata": {},
     "output_type": "execute_result"
    }
   ],
   "source": [
    "model_st = SentenceTransformer(\"all-MiniLM-L6-v2\")\n",
    "X_train = model_st.encode(train_df[\"query\"].tolist(), convert_to_tensor=True)\n",
    "X_val = model_st.encode(val_df[\"query\"].tolist(), convert_to_tensor=True)\n",
    "\n",
    "y_train = torch.tensor(train_df[\"carb\"].values, dtype=torch.float32).unsqueeze(1)\n",
    "y_val = torch.tensor(val_df[\"carb\"].values, dtype=torch.float32).unsqueeze(1)\n",
    "X_train = X_train.unsqueeze(1)  # (N, 1, 384)\n",
    "X_val = X_val.unsqueeze(1)\n",
    "\n",
    "train_dataset = TensorDataset(X_train, y_train)\n",
    "val_dataset = TensorDataset(X_val, y_val)\n",
    "\n",
    "train_loader = DataLoader(train_dataset, batch_size=32, shuffle=True)\n",
    "val_loader = DataLoader(val_dataset, batch_size=32)\n",
    "\n",
    "X_train.shape"
   ]
  },
  {
   "cell_type": "code",
   "execution_count": 59,
   "id": "fe825b96",
   "metadata": {},
   "outputs": [],
   "source": [
    "class LSTMModel(nn.Module):\n",
    "    def __init__(self, input_size=384, hidden_size=128, num_layers=3, dropout=0.3):\n",
    "        super(LSTMModel, self).__init__()\n",
    "        self.lstm = nn.LSTM(input_size, hidden_size, num_layers=num_layers,\n",
    "                            dropout=dropout, batch_first=True)\n",
    "        self.fc = nn.Linear(hidden_size, 1)\n",
    "\n",
    "    def forward(self, x):\n",
    "        out, _ = self.lstm(x)          # x: (batch, seq_len, input_size)\n",
    "        out = out[:, -1, :]            # Get last time step\n",
    "        return self.fc(out)\n"
   ]
  },
  {
   "cell_type": "code",
   "execution_count": 60,
   "id": "87a08698",
   "metadata": {},
   "outputs": [
    {
     "name": "stdout",
     "output_type": "stream",
     "text": [
      "Epoch 1, Train Loss: 482155.1545, Train RMSE: 43.92\n",
      "Epoch 2, Train Loss: 417613.1095, Train RMSE: 40.87\n",
      "Epoch 3, Train Loss: 388174.3433, Train RMSE: 39.40\n",
      "Epoch 4, Train Loss: 370938.8422, Train RMSE: 38.52\n",
      "Epoch 5, Train Loss: 357660.5226, Train RMSE: 37.82\n",
      "Epoch 6, Train Loss: 347445.6405, Train RMSE: 37.28\n",
      "Epoch 7, Train Loss: 336729.3076, Train RMSE: 36.70\n",
      "Epoch 8, Train Loss: 325809.0484, Train RMSE: 36.10\n",
      "Epoch 9, Train Loss: 314409.1737, Train RMSE: 35.46\n",
      "Epoch 10, Train Loss: 303951.8467, Train RMSE: 34.87\n",
      "Epoch 11, Train Loss: 296782.4672, Train RMSE: 34.45\n",
      "Epoch 12, Train Loss: 286914.7556, Train RMSE: 33.88\n",
      "Epoch 13, Train Loss: 275749.1315, Train RMSE: 33.21\n",
      "Epoch 14, Train Loss: 270826.2058, Train RMSE: 32.91\n",
      "Epoch 15, Train Loss: 262540.5114, Train RMSE: 32.41\n",
      "Epoch 16, Train Loss: 256245.5990, Train RMSE: 32.02\n",
      "Epoch 17, Train Loss: 246701.2210, Train RMSE: 31.41\n",
      "Epoch 18, Train Loss: 246677.7731, Train RMSE: 31.41\n",
      "Epoch 19, Train Loss: 238889.8497, Train RMSE: 30.91\n",
      "Epoch 20, Train Loss: 227806.6215, Train RMSE: 30.19\n",
      "Epoch 21, Train Loss: 224650.7621, Train RMSE: 29.98\n",
      "Epoch 22, Train Loss: 219594.4167, Train RMSE: 29.64\n",
      "Epoch 23, Train Loss: 215269.7314, Train RMSE: 29.34\n",
      "Epoch 24, Train Loss: 208976.5661, Train RMSE: 28.91\n",
      "Epoch 25, Train Loss: 202481.5600, Train RMSE: 28.46\n",
      "Epoch 26, Train Loss: 193706.9468, Train RMSE: 27.84\n",
      "Epoch 27, Train Loss: 189417.4041, Train RMSE: 27.53\n",
      "Epoch 28, Train Loss: 185405.8304, Train RMSE: 27.23\n",
      "Epoch 29, Train Loss: 183229.7830, Train RMSE: 27.07\n",
      "Epoch 30, Train Loss: 178871.1513, Train RMSE: 26.75\n",
      "Epoch 31, Train Loss: 175666.9714, Train RMSE: 26.51\n",
      "Epoch 32, Train Loss: 165141.1329, Train RMSE: 25.70\n",
      "Epoch 33, Train Loss: 162445.1737, Train RMSE: 25.49\n",
      "Epoch 34, Train Loss: 158830.6062, Train RMSE: 25.21\n",
      "Epoch 35, Train Loss: 153216.5332, Train RMSE: 24.76\n",
      "Epoch 36, Train Loss: 158035.7290, Train RMSE: 25.14\n",
      "Epoch 37, Train Loss: 147139.6073, Train RMSE: 24.26\n",
      "Epoch 38, Train Loss: 146537.5158, Train RMSE: 24.21\n",
      "Epoch 39, Train Loss: 147376.3668, Train RMSE: 24.28\n",
      "Epoch 40, Train Loss: 142572.8786, Train RMSE: 23.88\n",
      "Epoch 41, Train Loss: 142764.2740, Train RMSE: 23.90\n",
      "Epoch 42, Train Loss: 139969.6365, Train RMSE: 23.66\n",
      "Epoch 43, Train Loss: 135552.4852, Train RMSE: 23.29\n",
      "Epoch 44, Train Loss: 131507.6300, Train RMSE: 22.94\n",
      "Epoch 45, Train Loss: 123761.6344, Train RMSE: 22.25\n",
      "Epoch 46, Train Loss: 120986.9541, Train RMSE: 22.00\n",
      "Epoch 47, Train Loss: 119918.5484, Train RMSE: 21.90\n",
      "Epoch 48, Train Loss: 115540.8620, Train RMSE: 21.50\n",
      "Epoch 49, Train Loss: 118667.7126, Train RMSE: 21.79\n",
      "Epoch 50, Train Loss: 109932.7445, Train RMSE: 20.97\n",
      "Epoch 51, Train Loss: 103874.9649, Train RMSE: 20.38\n",
      "Epoch 52, Train Loss: 109171.1673, Train RMSE: 20.90\n",
      "Epoch 53, Train Loss: 103780.1333, Train RMSE: 20.37\n",
      "Epoch 54, Train Loss: 99124.1351, Train RMSE: 19.91\n",
      "Epoch 55, Train Loss: 106250.9582, Train RMSE: 20.62\n",
      "Epoch 56, Train Loss: 97577.9415, Train RMSE: 19.76\n",
      "Epoch 57, Train Loss: 92895.9129, Train RMSE: 19.28\n",
      "Epoch 58, Train Loss: 94970.5465, Train RMSE: 19.49\n",
      "Epoch 59, Train Loss: 95793.9964, Train RMSE: 19.57\n",
      "Epoch 60, Train Loss: 91503.1549, Train RMSE: 19.13\n",
      "Epoch 61, Train Loss: 87462.5549, Train RMSE: 18.70\n",
      "Epoch 62, Train Loss: 84263.8229, Train RMSE: 18.36\n",
      "Epoch 63, Train Loss: 85676.3385, Train RMSE: 18.51\n",
      "Epoch 64, Train Loss: 82000.2013, Train RMSE: 18.11\n",
      "Epoch 65, Train Loss: 85252.2225, Train RMSE: 18.47\n",
      "Epoch 66, Train Loss: 80855.4957, Train RMSE: 17.98\n",
      "Epoch 67, Train Loss: 78757.3197, Train RMSE: 17.75\n",
      "Epoch 68, Train Loss: 75642.8341, Train RMSE: 17.39\n",
      "Epoch 69, Train Loss: 76708.7413, Train RMSE: 17.52\n",
      "Epoch 70, Train Loss: 72040.8802, Train RMSE: 16.98\n",
      "Epoch 71, Train Loss: 73844.3036, Train RMSE: 17.19\n",
      "Epoch 72, Train Loss: 83972.4093, Train RMSE: 18.33\n",
      "Epoch 73, Train Loss: 68953.5840, Train RMSE: 16.61\n",
      "Epoch 74, Train Loss: 73345.9473, Train RMSE: 17.13\n",
      "Epoch 75, Train Loss: 70491.6274, Train RMSE: 16.79\n",
      "Epoch 76, Train Loss: 66445.7811, Train RMSE: 16.30\n",
      "Epoch 77, Train Loss: 65997.8158, Train RMSE: 16.25\n",
      "Epoch 78, Train Loss: 68447.1569, Train RMSE: 16.55\n",
      "Epoch 79, Train Loss: 68903.6291, Train RMSE: 16.60\n",
      "Epoch 80, Train Loss: 69812.1417, Train RMSE: 16.71\n",
      "Epoch 81, Train Loss: 62445.2740, Train RMSE: 15.80\n",
      "Epoch 82, Train Loss: 60269.9691, Train RMSE: 15.53\n",
      "Epoch 83, Train Loss: 58788.4243, Train RMSE: 15.33\n",
      "Epoch 84, Train Loss: 74170.1886, Train RMSE: 17.22\n",
      "Epoch 85, Train Loss: 62235.0907, Train RMSE: 15.78\n",
      "Epoch 86, Train Loss: 59096.0695, Train RMSE: 15.37\n",
      "Epoch 87, Train Loss: 56310.2043, Train RMSE: 15.01\n",
      "Epoch 88, Train Loss: 55140.5202, Train RMSE: 14.85\n",
      "Epoch 89, Train Loss: 54073.2843, Train RMSE: 14.71\n",
      "Epoch 90, Train Loss: 53819.9278, Train RMSE: 14.67\n",
      "Epoch 91, Train Loss: 52052.5998, Train RMSE: 14.43\n",
      "Epoch 92, Train Loss: 53617.4622, Train RMSE: 14.64\n",
      "Epoch 93, Train Loss: 50145.0858, Train RMSE: 14.16\n",
      "Epoch 94, Train Loss: 52352.2842, Train RMSE: 14.47\n",
      "Epoch 95, Train Loss: 49257.8884, Train RMSE: 14.04\n",
      "Epoch 96, Train Loss: 54001.4800, Train RMSE: 14.70\n",
      "Epoch 97, Train Loss: 55096.9957, Train RMSE: 14.85\n",
      "Epoch 98, Train Loss: 47877.9224, Train RMSE: 13.84\n",
      "Epoch 99, Train Loss: 57126.1490, Train RMSE: 15.12\n",
      "Epoch 100, Train Loss: 49669.5877, Train RMSE: 14.10\n"
     ]
    }
   ],
   "source": [
    "import math\n",
    "import torch.nn.functional as F\n",
    "\n",
    "model = LSTMModel()\n",
    "optimizer = torch.optim.Adam(model.parameters(), lr=0.001, weight_decay=1e-5)\n",
    "criterion = nn.MSELoss()\n",
    "\n",
    "for epoch in range(100):\n",
    "    model.train()\n",
    "    train_preds = []\n",
    "    train_targets = []\n",
    "    total_loss = 0\n",
    "\n",
    "    for xb, yb in train_loader:\n",
    "        optimizer.zero_grad()\n",
    "        pred = model(xb)\n",
    "        loss = criterion(pred, yb)\n",
    "        loss.backward()\n",
    "        optimizer.step()\n",
    "        total_loss += loss.item()\n",
    "\n",
    "        train_preds.append(pred.detach())\n",
    "        train_targets.append(yb)\n",
    "\n",
    "    train_preds = torch.cat(train_preds)\n",
    "    train_targets = torch.cat(train_targets)\n",
    "    train_rmse = math.sqrt(F.mse_loss(train_preds, train_targets).item())\n",
    "\n",
    "    print(f\"Epoch {epoch+1}, Train Loss: {total_loss:.4f}, Train RMSE: {train_rmse:.2f}\")"
   ]
  },
  {
   "cell_type": "code",
   "execution_count": 61,
   "id": "311ac6fd",
   "metadata": {},
   "outputs": [
    {
     "name": "stdout",
     "output_type": "stream",
     "text": [
      "Validation RMSE: 18.32\n"
     ]
    }
   ],
   "source": [
    "import torch.nn.functional as F\n",
    "import math\n",
    "\n",
    "model.eval()\n",
    "with torch.no_grad():\n",
    "    preds = []\n",
    "    targets = []\n",
    "    for xb, yb in val_loader:\n",
    "        y_pred = model(xb)\n",
    "        preds.append(y_pred)\n",
    "        targets.append(yb)\n",
    "\n",
    "    preds = torch.cat(preds)\n",
    "    targets = torch.cat(targets)\n",
    "    rmse = math.sqrt(F.mse_loss(preds, targets).item())\n",
    "    print(f\"Validation RMSE: {rmse:.2f}\")\n",
    "\n",
    "    #18.44 -> hidden_size=128, num_layers=3, dropout=0.5\n"
   ]
  },
  {
   "cell_type": "code",
   "execution_count": 47,
   "id": "76b324bd",
   "metadata": {},
   "outputs": [],
   "source": [
    "model.eval()\n",
    "with torch.no_grad():\n",
    "    preds = model(X_val).squeeze().numpy()\n",
    "\n",
    "# Add prediction column and save\n",
    "test_df[\"carb\"] = preds\n",
    "test_df.to_csv(\"test_with_predictions_transformer_lstm.csv\", index=False)"
   ]
  }
 ],
 "metadata": {
  "kernelspec": {
   "display_name": "Python 3",
   "language": "python",
   "name": "python3"
  },
  "language_info": {
   "codemirror_mode": {
    "name": "ipython",
    "version": 3
   },
   "file_extension": ".py",
   "mimetype": "text/x-python",
   "name": "python",
   "nbconvert_exporter": "python",
   "pygments_lexer": "ipython3",
   "version": "3.13.1"
  }
 },
 "nbformat": 4,
 "nbformat_minor": 5
}
