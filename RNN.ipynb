{
 "cells": [
  {
   "cell_type": "code",
   "execution_count": 1,
   "id": "084d19d3",
   "metadata": {},
   "outputs": [],
   "source": [
    "import torch\n",
    "import torch.nn as nn\n",
    "from torch.utils.data import Dataset, DataLoader, TensorDataset\n",
    "import pandas as pd\n",
    "from sklearn.metrics import mean_squared_error\n",
    "import numpy as np\n",
    "from sentence_transformers import SentenceTransformer"
   ]
  },
  {
   "cell_type": "code",
   "execution_count": 2,
   "id": "28d3a1fa",
   "metadata": {},
   "outputs": [],
   "source": [
    "\n",
    "train_df = pd.read_csv(\"train.csv\")\n",
    "val_df = pd.read_csv(\"val.csv\")\n",
    "test_df = pd.read_csv(\"test.csv\")"
   ]
  },
  {
   "cell_type": "code",
   "execution_count": 3,
   "id": "9106340d",
   "metadata": {},
   "outputs": [
    {
     "data": {
      "text/plain": [
       "torch.Size([8000, 1, 384])"
      ]
     },
     "execution_count": 3,
     "metadata": {},
     "output_type": "execute_result"
    }
   ],
   "source": [
    "model = SentenceTransformer(\"all-MiniLM-L6-v2\")\n",
    "X_train = model.encode(train_df[\"query\"].tolist(), convert_to_tensor=True)\n",
    "X_val = model.encode(val_df[\"query\"].tolist(), convert_to_tensor=True)\n",
    "X_test = model.encode(test_df[\"query\"].tolist(), convert_to_tensor=True)\n",
    "\n",
    "X_train = X_train.unsqueeze(1)\n",
    "X_val   = X_val.unsqueeze(1)\n",
    "X_test  = X_test.unsqueeze(1)\n",
    "\n",
    "y_train = torch.tensor(train_df[\"carb\"].values, dtype=torch.float32).unsqueeze(1)\n",
    "y_val   = torch.tensor(val_df[\"carb\"].values, dtype=torch.float32).unsqueeze(1)\n",
    "train_loader = DataLoader(TensorDataset(X_train, y_train), batch_size=32, shuffle=True)\n",
    "val_loader   = DataLoader(TensorDataset(X_val, y_val), batch_size=32)\n",
    "\n",
    "X_train.shape"
   ]
  },
  {
   "cell_type": "code",
   "execution_count": 4,
   "id": "1d6fad6e",
   "metadata": {},
   "outputs": [],
   "source": [
    "class RMSELoss(nn.Module):\n",
    "    def __init__(self):\n",
    "        super().__init__()\n",
    "        self.mse = nn.MSELoss()\n",
    "\n",
    "    def forward(self, yhat, y):\n",
    "        return torch.sqrt(self.mse(yhat, y))"
   ]
  },
  {
   "cell_type": "code",
   "execution_count": 50,
   "id": "7bd632a0",
   "metadata": {},
   "outputs": [],
   "source": [
    "import torch.nn as nn\n",
    "\n",
    "class RNN(nn.Module):\n",
    "    def __init__(self, input_size=384, hidden_size=128, num_layers=3, dropout=0.2, bidirectional=False):\n",
    "        super(RNN, self).__init__()\n",
    "        self.rnn = nn.RNN(\n",
    "            input_size=input_size, \n",
    "            hidden_size=hidden_size, \n",
    "            num_layers=num_layers, \n",
    "            batch_first=True,\n",
    "            dropout=dropout if num_layers > 1 else 0, \n",
    "            bidirectional=bidirectional, \n",
    "            nonlinearity='relu'\n",
    "            )\n",
    "        self.fc = nn.Linear(hidden_size, 1)\n",
    "\n",
    "    def forward(self, x):\n",
    "        out, _ = self.rnn(x)\n",
    "        return self.fc(out[:, -1, :])    \n"
   ]
  },
  {
   "cell_type": "code",
   "execution_count": 51,
   "id": "a1c510d9",
   "metadata": {},
   "outputs": [
    {
     "name": "stdout",
     "output_type": "stream",
     "text": [
      "Epoch 1, Train MSE: 1668.2448, RMSE: 40.84 grams\n",
      "Epoch 2, Train MSE: 1312.0507, RMSE: 36.22 grams\n",
      "Epoch 3, Train MSE: 1176.1080, RMSE: 34.29 grams\n",
      "Epoch 4, Train MSE: 1047.4256, RMSE: 32.36 grams\n",
      "Epoch 5, Train MSE: 939.4315, RMSE: 30.65 grams\n",
      "Epoch 6, Train MSE: 818.0128, RMSE: 28.60 grams\n",
      "Epoch 7, Train MSE: 737.5461, RMSE: 27.16 grams\n",
      "Epoch 8, Train MSE: 676.6195, RMSE: 26.01 grams\n",
      "Epoch 9, Train MSE: 604.9342, RMSE: 24.60 grams\n",
      "Epoch 10, Train MSE: 541.7374, RMSE: 23.28 grams\n",
      "Epoch 11, Train MSE: 471.5642, RMSE: 21.72 grams\n",
      "Epoch 12, Train MSE: 447.6483, RMSE: 21.16 grams\n",
      "Epoch 13, Train MSE: 420.2050, RMSE: 20.50 grams\n",
      "Epoch 14, Train MSE: 383.8927, RMSE: 19.59 grams\n",
      "Epoch 15, Train MSE: 378.7500, RMSE: 19.46 grams\n",
      "Epoch 16, Train MSE: 341.0446, RMSE: 18.47 grams\n",
      "Epoch 17, Train MSE: 364.5363, RMSE: 19.09 grams\n",
      "Epoch 18, Train MSE: 356.9507, RMSE: 18.89 grams\n",
      "Epoch 19, Train MSE: 318.3595, RMSE: 17.84 grams\n",
      "Epoch 20, Train MSE: 298.3174, RMSE: 17.27 grams\n",
      "Epoch 21, Train MSE: 268.3438, RMSE: 16.38 grams\n",
      "Epoch 22, Train MSE: 292.8627, RMSE: 17.11 grams\n",
      "Epoch 23, Train MSE: 272.0841, RMSE: 16.49 grams\n",
      "Epoch 24, Train MSE: 220.6795, RMSE: 14.86 grams\n",
      "Epoch 25, Train MSE: 244.9629, RMSE: 15.65 grams\n",
      "Epoch 26, Train MSE: 263.7530, RMSE: 16.24 grams\n",
      "Epoch 27, Train MSE: 263.2699, RMSE: 16.23 grams\n",
      "Epoch 28, Train MSE: 206.8936, RMSE: 14.38 grams\n",
      "Epoch 29, Train MSE: 212.0603, RMSE: 14.56 grams\n",
      "Epoch 30, Train MSE: 237.9517, RMSE: 15.43 grams\n",
      "Epoch 31, Train MSE: 246.1504, RMSE: 15.69 grams\n",
      "Epoch 32, Train MSE: 239.1178, RMSE: 15.46 grams\n",
      "Epoch 33, Train MSE: 194.8585, RMSE: 13.96 grams\n",
      "Epoch 34, Train MSE: 258.9280, RMSE: 16.09 grams\n",
      "Epoch 35, Train MSE: 182.8570, RMSE: 13.52 grams\n",
      "Epoch 36, Train MSE: 189.6432, RMSE: 13.77 grams\n",
      "Epoch 37, Train MSE: 161.3754, RMSE: 12.70 grams\n",
      "Epoch 38, Train MSE: 201.1274, RMSE: 14.18 grams\n",
      "Epoch 39, Train MSE: 200.1449, RMSE: 14.15 grams\n",
      "Epoch 40, Train MSE: 178.7057, RMSE: 13.37 grams\n",
      "Epoch 41, Train MSE: 171.9037, RMSE: 13.11 grams\n",
      "Epoch 42, Train MSE: 170.9420, RMSE: 13.07 grams\n",
      "Epoch 43, Train MSE: 159.7170, RMSE: 12.64 grams\n",
      "Epoch 44, Train MSE: 150.4087, RMSE: 12.26 grams\n",
      "Epoch 45, Train MSE: 140.6139, RMSE: 11.86 grams\n",
      "Epoch 46, Train MSE: 149.2683, RMSE: 12.22 grams\n",
      "Epoch 47, Train MSE: 187.0446, RMSE: 13.68 grams\n",
      "Epoch 48, Train MSE: 183.4795, RMSE: 13.55 grams\n",
      "Epoch 49, Train MSE: 153.4272, RMSE: 12.39 grams\n",
      "Epoch 50, Train MSE: 161.2881, RMSE: 12.70 grams\n",
      "Epoch 51, Train MSE: 153.8308, RMSE: 12.40 grams\n",
      "Epoch 52, Train MSE: 144.7939, RMSE: 12.03 grams\n",
      "Epoch 53, Train MSE: 134.5022, RMSE: 11.60 grams\n",
      "Epoch 54, Train MSE: 133.1569, RMSE: 11.54 grams\n",
      "Epoch 55, Train MSE: 151.1204, RMSE: 12.29 grams\n",
      "Epoch 56, Train MSE: 112.8656, RMSE: 10.62 grams\n",
      "Epoch 57, Train MSE: 126.6950, RMSE: 11.26 grams\n",
      "Epoch 58, Train MSE: 124.3573, RMSE: 11.15 grams\n",
      "Epoch 59, Train MSE: 132.7747, RMSE: 11.52 grams\n",
      "Epoch 60, Train MSE: 145.4691, RMSE: 12.06 grams\n",
      "Epoch 61, Train MSE: 147.7549, RMSE: 12.16 grams\n",
      "Epoch 62, Train MSE: 131.3566, RMSE: 11.46 grams\n",
      "Epoch 63, Train MSE: 115.0677, RMSE: 10.73 grams\n",
      "Epoch 64, Train MSE: 131.5394, RMSE: 11.47 grams\n",
      "Epoch 65, Train MSE: 131.3744, RMSE: 11.46 grams\n",
      "Epoch 66, Train MSE: 175.9841, RMSE: 13.27 grams\n",
      "Epoch 67, Train MSE: 135.5192, RMSE: 11.64 grams\n",
      "Epoch 68, Train MSE: 91.8293, RMSE: 9.58 grams\n",
      "Epoch 69, Train MSE: 130.2556, RMSE: 11.41 grams\n",
      "Epoch 70, Train MSE: 139.7800, RMSE: 11.82 grams\n",
      "Epoch 71, Train MSE: 113.6516, RMSE: 10.66 grams\n",
      "Epoch 72, Train MSE: 133.6629, RMSE: 11.56 grams\n",
      "Epoch 73, Train MSE: 130.8648, RMSE: 11.44 grams\n",
      "Epoch 74, Train MSE: 120.4224, RMSE: 10.97 grams\n",
      "Epoch 75, Train MSE: 109.7307, RMSE: 10.48 grams\n",
      "Epoch 76, Train MSE: 116.0378, RMSE: 10.77 grams\n",
      "Epoch 77, Train MSE: 99.2448, RMSE: 9.96 grams\n",
      "Epoch 78, Train MSE: 103.9909, RMSE: 10.20 grams\n",
      "Epoch 79, Train MSE: 116.9459, RMSE: 10.81 grams\n",
      "Epoch 80, Train MSE: 133.5911, RMSE: 11.56 grams\n",
      "Epoch 81, Train MSE: 116.8991, RMSE: 10.81 grams\n",
      "Epoch 82, Train MSE: 118.2929, RMSE: 10.88 grams\n",
      "Epoch 83, Train MSE: 122.9201, RMSE: 11.09 grams\n",
      "Epoch 84, Train MSE: 116.8373, RMSE: 10.81 grams\n",
      "Epoch 85, Train MSE: 94.3455, RMSE: 9.71 grams\n",
      "Epoch 86, Train MSE: 95.1102, RMSE: 9.75 grams\n",
      "Epoch 87, Train MSE: 115.6748, RMSE: 10.76 grams\n",
      "Epoch 88, Train MSE: 123.3414, RMSE: 11.11 grams\n",
      "Epoch 89, Train MSE: 114.9385, RMSE: 10.72 grams\n",
      "Epoch 90, Train MSE: 109.3800, RMSE: 10.46 grams\n",
      "Epoch 91, Train MSE: 124.5141, RMSE: 11.16 grams\n",
      "Epoch 92, Train MSE: 113.1376, RMSE: 10.64 grams\n",
      "Epoch 93, Train MSE: 89.5566, RMSE: 9.46 grams\n",
      "Epoch 94, Train MSE: 96.0981, RMSE: 9.80 grams\n",
      "Epoch 95, Train MSE: 127.9451, RMSE: 11.31 grams\n",
      "Epoch 96, Train MSE: 100.2365, RMSE: 10.01 grams\n",
      "Epoch 97, Train MSE: 97.4148, RMSE: 9.87 grams\n",
      "Epoch 98, Train MSE: 127.5520, RMSE: 11.29 grams\n",
      "Epoch 99, Train MSE: 110.3193, RMSE: 10.50 grams\n",
      "Epoch 100, Train MSE: 106.1377, RMSE: 10.30 grams\n"
     ]
    }
   ],
   "source": [
    "model = RNN()\n",
    "optimizer = torch.optim.Adam(model.parameters(), lr=0.001, weight_decay=1e-5)\n",
    "criterion = nn.MSELoss()\n",
    "\n",
    "epochs = 100\n",
    "\n",
    "for epoch in range(epochs):\n",
    "    model.train()\n",
    "    total_loss = 0\n",
    "    for x_batch, y_batch in train_loader:\n",
    "        optimizer.zero_grad()\n",
    "        preds = model(x_batch)\n",
    "        loss = criterion(preds, y_batch)\n",
    "        loss.backward()\n",
    "        optimizer.step()\n",
    "        total_loss += loss.item()\n",
    "\n",
    "    avg_loss = total_loss / len(train_loader)\n",
    "    rmse = avg_loss ** 0.5\n",
    "    print(f\"Epoch {epoch+1}, Train MSE: {avg_loss:.4f}, RMSE: {rmse:.2f} grams\")\n",
    "\n",
    "    "
   ]
  },
  {
   "cell_type": "code",
   "execution_count": 53,
   "id": "4d01d02e",
   "metadata": {},
   "outputs": [
    {
     "name": "stdout",
     "output_type": "stream",
     "text": [
      "Validation MSE: 391.6109, RMSE: 19.79 grams\n"
     ]
    }
   ],
   "source": [
    "model.eval()\n",
    "total_val_loss = 0\n",
    "all_preds = []\n",
    "all_targets = []\n",
    "\n",
    "with torch.no_grad():\n",
    "    for x_batch, y_batch in val_loader:\n",
    "\n",
    "        preds = model(x_batch)\n",
    "        loss = criterion(preds, y_batch)\n",
    "        total_val_loss += loss.item()\n",
    "\n",
    "        all_preds.append(preds.cpu())\n",
    "        all_targets.append(y_batch.cpu())\n",
    "\n",
    "avg_val_loss = total_val_loss / len(val_loader)\n",
    "rmse = avg_val_loss ** 0.5\n",
    "print(f\"Validation MSE: {avg_val_loss:.4f}, RMSE: {rmse:.2f} grams\")"
   ]
  },
  {
   "cell_type": "code",
   "execution_count": 54,
   "id": "a7e61155",
   "metadata": {},
   "outputs": [],
   "source": [
    "model.eval()\n",
    "with torch.no_grad():\n",
    "    preds = model(X_val).squeeze().numpy()\n",
    "\n",
    "# Add prediction column and save\n",
    "test_df[\"carb\"] = preds\n",
    "test_df.to_csv(\"test_with_predictions_transformer_rnn.csv\", index=False)"
   ]
  }
 ],
 "metadata": {
  "kernelspec": {
   "display_name": "Python 3",
   "language": "python",
   "name": "python3"
  },
  "language_info": {
   "codemirror_mode": {
    "name": "ipython",
    "version": 3
   },
   "file_extension": ".py",
   "mimetype": "text/x-python",
   "name": "python",
   "nbconvert_exporter": "python",
   "pygments_lexer": "ipython3",
   "version": "3.13.1"
  }
 },
 "nbformat": 4,
 "nbformat_minor": 5
}
